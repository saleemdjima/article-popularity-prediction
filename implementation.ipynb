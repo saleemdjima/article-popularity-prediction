{
 "cells": [
  {
   "cell_type": "code",
   "execution_count": 1,
   "metadata": {},
   "outputs": [
    {
     "data": {
      "text/html": [
       "<div>\n",
       "<style scoped>\n",
       "    .dataframe tbody tr th:only-of-type {\n",
       "        vertical-align: middle;\n",
       "    }\n",
       "\n",
       "    .dataframe tbody tr th {\n",
       "        vertical-align: top;\n",
       "    }\n",
       "\n",
       "    .dataframe thead th {\n",
       "        text-align: right;\n",
       "    }\n",
       "</style>\n",
       "<table border=\"1\" class=\"dataframe\">\n",
       "  <thead>\n",
       "    <tr style=\"text-align: right;\">\n",
       "      <th></th>\n",
       "      <th>url</th>\n",
       "      <th>timedelta</th>\n",
       "      <th>n_tokens_title</th>\n",
       "      <th>n_tokens_content</th>\n",
       "      <th>n_unique_tokens</th>\n",
       "      <th>n_non_stop_words</th>\n",
       "      <th>n_non_stop_unique_tokens</th>\n",
       "      <th>num_hrefs</th>\n",
       "      <th>num_self_hrefs</th>\n",
       "      <th>num_imgs</th>\n",
       "      <th>...</th>\n",
       "      <th>min_positive_polarity</th>\n",
       "      <th>max_positive_polarity</th>\n",
       "      <th>avg_negative_polarity</th>\n",
       "      <th>min_negative_polarity</th>\n",
       "      <th>max_negative_polarity</th>\n",
       "      <th>title_subjectivity</th>\n",
       "      <th>title_sentiment_polarity</th>\n",
       "      <th>abs_title_subjectivity</th>\n",
       "      <th>abs_title_sentiment_polarity</th>\n",
       "      <th>shares</th>\n",
       "    </tr>\n",
       "  </thead>\n",
       "  <tbody>\n",
       "    <tr>\n",
       "      <th>0</th>\n",
       "      <td>'http://mashable.com/2013/01/07/amazon-instant...</td>\n",
       "      <td>731</td>\n",
       "      <td>12</td>\n",
       "      <td>219</td>\n",
       "      <td>0.663594</td>\n",
       "      <td>1.0</td>\n",
       "      <td>0.815385</td>\n",
       "      <td>4</td>\n",
       "      <td>2</td>\n",
       "      <td>1</td>\n",
       "      <td>...</td>\n",
       "      <td>0.100000</td>\n",
       "      <td>0.7</td>\n",
       "      <td>-0.350000</td>\n",
       "      <td>-0.600</td>\n",
       "      <td>-0.200000</td>\n",
       "      <td>0.500000</td>\n",
       "      <td>-0.187500</td>\n",
       "      <td>0.000000</td>\n",
       "      <td>0.187500</td>\n",
       "      <td>593</td>\n",
       "    </tr>\n",
       "    <tr>\n",
       "      <th>1</th>\n",
       "      <td>'http://mashable.com/2013/01/07/ap-samsung-spo...</td>\n",
       "      <td>731</td>\n",
       "      <td>9</td>\n",
       "      <td>255</td>\n",
       "      <td>0.604743</td>\n",
       "      <td>1.0</td>\n",
       "      <td>0.791946</td>\n",
       "      <td>3</td>\n",
       "      <td>1</td>\n",
       "      <td>1</td>\n",
       "      <td>...</td>\n",
       "      <td>0.033333</td>\n",
       "      <td>0.7</td>\n",
       "      <td>-0.118750</td>\n",
       "      <td>-0.125</td>\n",
       "      <td>-0.100000</td>\n",
       "      <td>0.000000</td>\n",
       "      <td>0.000000</td>\n",
       "      <td>0.500000</td>\n",
       "      <td>0.000000</td>\n",
       "      <td>711</td>\n",
       "    </tr>\n",
       "    <tr>\n",
       "      <th>2</th>\n",
       "      <td>'http://mashable.com/2013/01/07/apple-40-billi...</td>\n",
       "      <td>731</td>\n",
       "      <td>9</td>\n",
       "      <td>211</td>\n",
       "      <td>0.575130</td>\n",
       "      <td>1.0</td>\n",
       "      <td>0.663866</td>\n",
       "      <td>3</td>\n",
       "      <td>1</td>\n",
       "      <td>1</td>\n",
       "      <td>...</td>\n",
       "      <td>0.100000</td>\n",
       "      <td>1.0</td>\n",
       "      <td>-0.466667</td>\n",
       "      <td>-0.800</td>\n",
       "      <td>-0.133333</td>\n",
       "      <td>0.000000</td>\n",
       "      <td>0.000000</td>\n",
       "      <td>0.500000</td>\n",
       "      <td>0.000000</td>\n",
       "      <td>1500</td>\n",
       "    </tr>\n",
       "    <tr>\n",
       "      <th>3</th>\n",
       "      <td>'http://mashable.com/2013/01/07/astronaut-notr...</td>\n",
       "      <td>731</td>\n",
       "      <td>9</td>\n",
       "      <td>531</td>\n",
       "      <td>0.503788</td>\n",
       "      <td>1.0</td>\n",
       "      <td>0.665635</td>\n",
       "      <td>9</td>\n",
       "      <td>0</td>\n",
       "      <td>1</td>\n",
       "      <td>...</td>\n",
       "      <td>0.136364</td>\n",
       "      <td>0.8</td>\n",
       "      <td>-0.369697</td>\n",
       "      <td>-0.600</td>\n",
       "      <td>-0.166667</td>\n",
       "      <td>0.000000</td>\n",
       "      <td>0.000000</td>\n",
       "      <td>0.500000</td>\n",
       "      <td>0.000000</td>\n",
       "      <td>1200</td>\n",
       "    </tr>\n",
       "    <tr>\n",
       "      <th>4</th>\n",
       "      <td>'http://mashable.com/2013/01/07/att-u-verse-ap...</td>\n",
       "      <td>731</td>\n",
       "      <td>13</td>\n",
       "      <td>1072</td>\n",
       "      <td>0.415646</td>\n",
       "      <td>1.0</td>\n",
       "      <td>0.540890</td>\n",
       "      <td>19</td>\n",
       "      <td>19</td>\n",
       "      <td>20</td>\n",
       "      <td>...</td>\n",
       "      <td>0.033333</td>\n",
       "      <td>1.0</td>\n",
       "      <td>-0.220192</td>\n",
       "      <td>-0.500</td>\n",
       "      <td>-0.050000</td>\n",
       "      <td>0.454545</td>\n",
       "      <td>0.136364</td>\n",
       "      <td>0.045455</td>\n",
       "      <td>0.136364</td>\n",
       "      <td>505</td>\n",
       "    </tr>\n",
       "  </tbody>\n",
       "</table>\n",
       "<p>5 rows × 61 columns</p>\n",
       "</div>"
      ],
      "text/plain": [
       "                                                 url  timedelta  \\\n",
       "0  'http://mashable.com/2013/01/07/amazon-instant...        731   \n",
       "1  'http://mashable.com/2013/01/07/ap-samsung-spo...        731   \n",
       "2  'http://mashable.com/2013/01/07/apple-40-billi...        731   \n",
       "3  'http://mashable.com/2013/01/07/astronaut-notr...        731   \n",
       "4  'http://mashable.com/2013/01/07/att-u-verse-ap...        731   \n",
       "\n",
       "   n_tokens_title  n_tokens_content  n_unique_tokens  n_non_stop_words  \\\n",
       "0              12               219         0.663594               1.0   \n",
       "1               9               255         0.604743               1.0   \n",
       "2               9               211         0.575130               1.0   \n",
       "3               9               531         0.503788               1.0   \n",
       "4              13              1072         0.415646               1.0   \n",
       "\n",
       "   n_non_stop_unique_tokens  num_hrefs  num_self_hrefs  num_imgs  ...  \\\n",
       "0                  0.815385          4               2         1  ...   \n",
       "1                  0.791946          3               1         1  ...   \n",
       "2                  0.663866          3               1         1  ...   \n",
       "3                  0.665635          9               0         1  ...   \n",
       "4                  0.540890         19              19        20  ...   \n",
       "\n",
       "   min_positive_polarity  max_positive_polarity  avg_negative_polarity  \\\n",
       "0               0.100000                    0.7              -0.350000   \n",
       "1               0.033333                    0.7              -0.118750   \n",
       "2               0.100000                    1.0              -0.466667   \n",
       "3               0.136364                    0.8              -0.369697   \n",
       "4               0.033333                    1.0              -0.220192   \n",
       "\n",
       "   min_negative_polarity  max_negative_polarity  title_subjectivity  \\\n",
       "0                 -0.600              -0.200000            0.500000   \n",
       "1                 -0.125              -0.100000            0.000000   \n",
       "2                 -0.800              -0.133333            0.000000   \n",
       "3                 -0.600              -0.166667            0.000000   \n",
       "4                 -0.500              -0.050000            0.454545   \n",
       "\n",
       "   title_sentiment_polarity  abs_title_subjectivity  \\\n",
       "0                 -0.187500                0.000000   \n",
       "1                  0.000000                0.500000   \n",
       "2                  0.000000                0.500000   \n",
       "3                  0.000000                0.500000   \n",
       "4                  0.136364                0.045455   \n",
       "\n",
       "   abs_title_sentiment_polarity  shares  \n",
       "0                      0.187500     593  \n",
       "1                      0.000000     711  \n",
       "2                      0.000000    1500  \n",
       "3                      0.000000    1200  \n",
       "4                      0.136364     505  \n",
       "\n",
       "[5 rows x 61 columns]"
      ]
     },
     "execution_count": 1,
     "metadata": {},
     "output_type": "execute_result"
    }
   ],
   "source": [
    "# Import required libraries\n",
    "import pandas as pd\n",
    "import numpy as np\n",
    "import matplotlib.pyplot as plt\n",
    "from sklearn import linear_model\n",
    "from sklearn.decomposition import PCA\n",
    "\n",
    "# Import our implementation\n",
    "from model import OLS\n",
    "from model import RidgeRegression\n",
    "from model import PCAImplementation\n",
    "\n",
    "# Load data\n",
    "articles = pd.read_csv(\"phpgBMvy4.csv\", header=0)\n",
    "articles.head(5)"
   ]
  },
  {
   "cell_type": "code",
   "execution_count": 2,
   "metadata": {},
   "outputs": [],
   "source": [
    "# Select relevant variables\n",
    "categorical_features = [\n",
    "    \"data_channel_is_lifestyle\", \"data_channel_is_entertainment\", \"data_channel_is_bus\",\n",
    "    \"data_channel_is_socmed\", \"data_channel_is_tech\", \"data_channel_is_world\",\n",
    "    \"weekday_is_monday\", \"weekday_is_tuesday\", \"weekday_is_wednesday\",\n",
    "    \"weekday_is_thursday\", \"weekday_is_friday\", \"weekday_is_saturday\",\n",
    "    \"weekday_is_sunday\", \"is_weekend\"\n",
    "]\n",
    "\n",
    "numerical_features = [\n",
    "    \"timedelta\", \"n_tokens_title\", \"n_tokens_content\", \"n_unique_tokens\",\n",
    "    \"n_non_stop_words\", \"n_non_stop_unique_tokens\", \"num_hrefs\", \"num_self_hrefs\",\n",
    "    \"num_imgs\", \"num_videos\", \"average_token_length\", \"num_keywords\",\n",
    "    \"kw_min_min\", \"kw_max_min\", \"kw_avg_min\", \"kw_min_max\", \"kw_max_max\",\n",
    "    \"kw_avg_max\", \"kw_min_avg\", \"kw_max_avg\", \"kw_avg_avg\",\n",
    "    \"self_reference_min_shares\", \"self_reference_max_shares\",\n",
    "    \"self_reference_avg_sharess\", \"LDA_00\", \"LDA_01\", \"LDA_02\",\n",
    "    \"LDA_03\", \"LDA_04\", \"global_subjectivity\", \"global_sentiment_polarity\",\n",
    "    \"global_rate_positive_words\", \"global_rate_negative_words\", \"rate_positive_words\",\n",
    "    \"rate_negative_words\", \"avg_positive_polarity\", \"min_positive_polarity\",\n",
    "    \"max_positive_polarity\", \"avg_negative_polarity\", \"min_negative_polarity\",\n",
    "    \"max_negative_polarity\", \"title_subjectivity\", \"title_sentiment_polarity\",\n",
    "    \"abs_title_subjectivity\", \"abs_title_sentiment_polarity\", \"shares\"\n",
    "]"
   ]
  },
  {
   "cell_type": "code",
   "execution_count": 3,
   "metadata": {},
   "outputs": [
    {
     "name": "stdout",
     "output_type": "stream",
     "text": [
      "14 categorical variables, 46 numerical variables, and 60 variables in total.\n"
     ]
    }
   ],
   "source": [
    "# Print variable counts\n",
    "total_variables = len(categorical_features) + len(numerical_features)\n",
    "print(f\"{len(categorical_features)} categorical variables, {len(numerical_features)} numerical variables, and {total_variables} variables in total.\")\n",
    "\n",
    "# Select data for regression analysis\n",
    "selected_features = [\"n_tokens_title\", \"n_tokens_content\", \"n_unique_tokens\"]\n",
    "target_variable = \"shares\"\n",
    "\n",
    "X = articles[selected_features]\n",
    "Y = articles[target_variable]\n"
   ]
  },
  {
   "cell_type": "markdown",
   "metadata": {},
   "source": [
    "### 1. OLS Implementation and comparison with scikit-learn implementation"
   ]
  },
  {
   "cell_type": "code",
   "execution_count": 4,
   "metadata": {},
   "outputs": [],
   "source": [
    "# Fit OLS\n",
    "ols = OLS().fit(X, Y)\n",
    "\n",
    "# Compare with sklearn's LinearRegression\n",
    "sklearn_ols = linear_model.LinearRegression(fit_intercept=True).fit(X, Y)\n",
    "sklearn_ols_coefficients = [sklearn_ols.intercept_] + list(sklearn_ols.coef_)"
   ]
  },
  {
   "cell_type": "code",
   "execution_count": 5,
   "metadata": {},
   "outputs": [
    {
     "name": "stdout",
     "output_type": "stream",
     "text": [
      "           Variable  Our Implementation   Sklearn\n",
      "0         Intercept            2862.544  2862.544\n",
      "1    n_tokens_title              48.101    48.101\n",
      "2  n_tokens_content               0.057     0.057\n",
      "3   n_unique_tokens               2.853     2.853\n"
     ]
    },
    {
     "data": {
      "text/plain": [
       "'\\\\begin{tabular}{lrr}\\n\\\\toprule\\nVariable & Our Implementation & Sklearn \\\\\\\\\\n\\\\midrule\\nIntercept & 2862.544000 & 2862.544000 \\\\\\\\\\nn_tokens_title & 48.101000 & 48.101000 \\\\\\\\\\nn_tokens_content & 0.057000 & 0.057000 \\\\\\\\\\nn_unique_tokens & 2.853000 & 2.853000 \\\\\\\\\\n\\\\bottomrule\\n\\\\end{tabular}\\n'"
      ]
     },
     "execution_count": 5,
     "metadata": {},
     "output_type": "execute_result"
    }
   ],
   "source": [
    "# Fit OLS\n",
    "ols = OLS().fit(X, Y)\n",
    "\n",
    "# Compare with sklearn's LinearRegression\n",
    "sklearn_ols = linear_model.LinearRegression(fit_intercept=True).fit(X, Y)\n",
    "sklearn_ols_coefficients = [sklearn_ols.intercept_] + list(sklearn_ols.coef_)\n",
    "\n",
    "# Create comparison DataFrame\n",
    "comparison_ols = pd.DataFrame({\n",
    "    \"Variable\": [\"Intercept\"] + selected_features,\n",
    "    \"Our Implementation\": np.round(ols.coefficients, 3),\n",
    "    \"Sklearn\": np.round(sklearn_ols_coefficients, 3)\n",
    "})\n",
    "print(comparison_ols)\n",
    "\n",
    "# Export comparison to LaTeX\n",
    "comparison_ols.to_latex(index=False)"
   ]
  },
  {
   "cell_type": "markdown",
   "metadata": {},
   "source": [
    "### 2. Ridge Implementation and comparison with scikit-learn implementation"
   ]
  },
  {
   "cell_type": "code",
   "execution_count": 6,
   "metadata": {},
   "outputs": [
    {
     "name": "stdout",
     "output_type": "stream",
     "text": [
      "           Variable  Our Implementation   Sklearn\n",
      "0         Intercept            2860.643  2862.544\n",
      "1    n_tokens_title              48.268    48.101\n",
      "2  n_tokens_content               0.057     0.057\n",
      "3   n_unique_tokens               2.856     2.853\n"
     ]
    },
    {
     "data": {
      "text/plain": [
       "'\\\\begin{tabular}{lrr}\\n\\\\toprule\\nVariable & Our Implementation & Sklearn \\\\\\\\\\n\\\\midrule\\nIntercept & 2860.643000 & 2862.544000 \\\\\\\\\\nn_tokens_title & 48.268000 & 48.101000 \\\\\\\\\\nn_tokens_content & 0.057000 & 0.057000 \\\\\\\\\\nn_unique_tokens & 2.856000 & 2.853000 \\\\\\\\\\n\\\\bottomrule\\n\\\\end{tabular}\\n'"
      ]
     },
     "execution_count": 6,
     "metadata": {},
     "output_type": "execute_result"
    }
   ],
   "source": [
    "# Fit Ridge Regression\n",
    "ridge = RidgeRegression().fit(X, Y)\n",
    "\n",
    "# Create Ridge comparison DataFrame\n",
    "comparison_ridge = pd.DataFrame({\n",
    "    \"Variable\": [\"Intercept\"] + selected_features,\n",
    "    \"Our Implementation\": np.round(ridge.coefficients, 3),\n",
    "    \"Sklearn\": np.round(sklearn_ols_coefficients, 3)\n",
    "})\n",
    "print(comparison_ridge)\n",
    "\n",
    "# Export Ridge comparison to LaTeX\n",
    "comparison_ridge.to_latex(index=False)"
   ]
  },
  {
   "cell_type": "markdown",
   "metadata": {},
   "source": [
    "### 3. Principal Component Analysis and comparison with scikit-learn implementation"
   ]
  },
  {
   "cell_type": "code",
   "execution_count": 7,
   "metadata": {},
   "outputs": [
    {
     "name": "stdout",
     "output_type": "stream",
     "text": [
      "Eigenvalues: [2.21942286e+05 1.23953003e+01 4.46748649e+00]\n"
     ]
    },
    {
     "data": {
      "image/png": "[encoded data removed]",
      "text/plain": [
       "<Figure size 640x480 with 1 Axes>"
      ]
     },
     "metadata": {},
     "output_type": "display_data"
    },
    {
     "name": "stdout",
     "output_type": "stream",
     "text": [
      "          Metric           Our Implementation                      Sklearn\n",
      "0    Eigenvalues  [221942.286, 12.395, 4.467]  [221942.286, 12.395, 4.467]\n",
      "1  Eigenvector 1             [0.0, 1.0, -0.0]             [0.0, 1.0, -0.0]\n",
      "2  Eigenvector 2           [-0.005, 0.0, 1.0]           [-0.005, 0.0, 1.0]\n",
      "3  Eigenvector 3           [1.0, -0.0, 0.005]           [1.0, -0.0, 0.005]\n"
     ]
    },
    {
     "data": {
      "text/plain": [
       "'\\\\begin{tabular}{lll}\\n\\\\toprule\\nMetric & Our Implementation & Sklearn \\\\\\\\\\n\\\\midrule\\nEigenvalues & [2.21942286e+05 1.23950000e+01 4.46700000e+00] & [2.21942286e+05 1.23950000e+01 4.46700000e+00] \\\\\\\\\\nEigenvector 1 & [ 0.  1. -0.] & [ 0.  1. -0.] \\\\\\\\\\nEigenvector 2 & [-0.005  0.     1.   ] & [-0.005  0.     1.   ] \\\\\\\\\\nEigenvector 3 & [ 1.    -0.     0.005] & [ 1.    -0.     0.005] \\\\\\\\\\n\\\\bottomrule\\n\\\\end{tabular}\\n'"
      ]
     },
     "execution_count": 7,
     "metadata": {},
     "output_type": "execute_result"
    }
   ],
   "source": [
    "# Fit PCA\n",
    "pca = PCAImplementation().fit(X)\n",
    "print(\"Eigenvalues:\", pca.eigen_values)\n",
    "pca.plot_explained_variance()\n",
    "\n",
    "# Compare with sklearn PCA\n",
    "sklearn_pca = PCA().fit(X)\n",
    "\n",
    "comparison_pca = pd.DataFrame({\n",
    "    \"Metric\": [\"Eigenvalues\"] + [f\"Eigenvector {i}\" for i in range(1, 4)],\n",
    "    \"Our Implementation\": [\n",
    "        np.round(pca.eigen_values, 3),\n",
    "        *[np.round(vec, 3) for vec in pca.eigen_vectors[:, :3].T]\n",
    "    ],\n",
    "    \"Sklearn\": [\n",
    "        np.round(sklearn_pca.explained_variance_, 3),\n",
    "        *[np.round(vec, 3) for vec in sklearn_pca.components_[:3, :]]\n",
    "    ]\n",
    "})\n",
    "print(comparison_pca)\n",
    "\n",
    "# Export PCA comparison to LaTeX\n",
    "comparison_pca.to_latex(index=False)"
   ]
  }
 ],
 "metadata": {
  "kernelspec": {
   "display_name": "base",
   "language": "python",
   "name": "python3"
  },
  "language_info": {
   "codemirror_mode": {
    "name": "ipython",
    "version": 3
   },
   "file_extension": ".py",
   "mimetype": "text/x-python",
   "name": "python",
   "nbconvert_exporter": "python",
   "pygments_lexer": "ipython3",
   "version": "3.11.7"
  }
 },
 "nbformat": 4,
 "nbformat_minor": 2
}
